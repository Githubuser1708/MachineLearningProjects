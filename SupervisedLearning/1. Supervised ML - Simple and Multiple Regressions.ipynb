{
 "cells": [
  {
   "cell_type": "markdown",
   "id": "7b4285d1",
   "metadata": {},
   "source": [
    "<h1 align=\"center\"><font color = \"firebrick\">Supervised ML - Simple and Multiple Regressions</h3> "
   ]
  },
  {
   "cell_type": "markdown",
   "id": "3147860f",
   "metadata": {},
   "source": [
    "Linear regression is a basic and commonly used type of predictive analysis. The overall idea of regression is to examine two things: \n",
    "1. Does a set of predictor variables do a good job in predicting an outcome (dependent) variable?\n",
    "2. Which variables in particular are significant predictors of the outcome variable, and in what way do they–indicated by the magnitude and sign of the beta estimates–impact the outcome variable?  \n",
    "\n",
    "These regression estimates are used to explain the relationship between one dependent variable and one or more independent variables.  \n",
    "\n",
    "The simplest form of the regression equation with one dependent and one independent variable is defined by the formula shown below:\n",
    "\n",
    "<img src=\"https://cdn-coiao.nitrocdn.com/CYHudqJZsSxQpAPzLkHFOkuzFKDpEHGF/assets/static/optimized/rev-85bf93c/wp-content/uploads/2018/08/linear-regression-equation-explained.png\" width=\"400\">\n",
    "\n",
    "\n",
    "Three major uses for regression analysis are:\n",
    "1. determining the strength of predictors, \n",
    "2. forecasting an effect, and \n",
    "3. trend forecasting."
   ]
  },
  {
   "cell_type": "markdown",
   "id": "4285626c",
   "metadata": {},
   "source": [
    "# 1. Business Problem"
   ]
  },
  {
   "cell_type": "markdown",
   "id": "a6c82db7",
   "metadata": {},
   "source": [
    "As a real-estate consultant/analyst, you want to understand on what factors sales price of a house depends. Based on the analysis, you want to predict the the price of a house given various details about it such as lot area, overall quality of the house, year in which it was built, number of bathrooms etc."
   ]
  },
  {
   "cell_type": "markdown",
   "id": "30b9b822",
   "metadata": {},
   "source": [
    "# 2. Data import "
   ]
  },
  {
   "cell_type": "markdown",
   "id": "507ed71d",
   "metadata": {},
   "source": [
    "### Loading the required libraries"
   ]
  },
  {
   "cell_type": "markdown",
   "id": "1b79a87e",
   "metadata": {},
   "source": [
    "It's a good practice that we import all required libraries in the beginning of the notebook. However, in this course, we will import the libraries when they are required in the middle of the notebooks. It is done to give you an idea at which step we need which library/function."
   ]
  },
  {
   "cell_type": "code",
   "execution_count": 3,
   "id": "2a0e2697",
   "metadata": {},
   "outputs": [],
   "source": [
    "# Importing the initial required libraries\n",
    "import pandas as pd\n",
    "import numpy as np\n",
    "import matplotlib.pyplot as plt\n",
    "import seaborn as sns\n",
    "\n",
    "# To ignore the warnings that may appear\n",
    "import warnings\n",
    "warnings.filterwarnings(\"ignore\")"
   ]
  },
  {
   "cell_type": "markdown",
   "id": "d1e290e0",
   "metadata": {},
   "source": [
    "### Importing the data"
   ]
  },
  {
   "cell_type": "code",
   "execution_count": 4,
   "id": "097457d8",
   "metadata": {},
   "outputs": [],
   "source": [
    "# Load in the data\n",
    "url = \"https://bit.ly/316tYZT\"\n",
    "df = pd.read_csv(url)"
   ]
  },
  {
   "cell_type": "markdown",
   "id": "2a4d7b35",
   "metadata": {},
   "source": [
    "##### Some terminologies that we use in machine learning or data science work:"
   ]
  },
  {
   "cell_type": "markdown",
   "id": "dad6dfec",
   "metadata": {},
   "source": [
    "**1. Table**: dataframe, data, dataset, or any specific name that we assign.<br>\n",
    "**2. Columns**: variables, parameters<br>\n",
    "**3. Input columns**: input variables, input variables, predictor, **independent** or **response** variables, features (in classification problems)<br>\n",
    "**4. Output column**: output variable, output variable, outcome, **dependent** or **target** variables, labels (in classification problems)<br>\n",
    "**5. EDA**: Exploratory data analysis, mostly visually analysing the data<br>\n",
    "**6. Model**: The machine learning model/algorithm/program that we are going to use on the dataset to predict something<br>\n",
    "**7. Performance**: Defining \"how well the model is predicting?\" is done through model performance evaluation.<br>\n",
    "**8. Performance metric**: Names of some calculations/functions using which we try to quantify the performance of the model.<br>\n",
    "**9. Hyperparameter tuning**: Sometimes, to improve the performance of the model, we try to change some paramters and then compare if there is any improvement. This is called hyperparameter tuning.<br> \n",
    "Simple example, in the previous course, you have learnt how to create bar charts. The default color of the cars are <font color = \"blue\"> blue </font> which can be changed to <font color = \"red\"> red </font> using a parameter called `color`."
   ]
  },
  {
   "cell_type": "markdown",
   "id": "d220a01f",
   "metadata": {},
   "source": [
    "# 3. Data Understanding"
   ]
  },
  {
   "cell_type": "markdown",
   "id": "a1c60a5e",
   "metadata": {},
   "source": [
    "### Basic exploration\n"
   ]
  },
  {
   "cell_type": "markdown",
   "id": "ae1a69a6",
   "metadata": {},
   "source": [
    "There are various methods to understand data which you have learn in the previous course. We are going to use some of those here."
   ]
  },
  {
   "cell_type": "code",
   "execution_count": 5,
   "id": "3e891920",
   "metadata": {
    "scrolled": false
   },
   "outputs": [
    {
     "name": "stdout",
     "output_type": "stream",
     "text": [
      "Dimension of the data: (2925, 11)\n",
      "\n",
      " ---------------------------------------------------------------------------------------------------- \n",
      "\n",
      "Summary of the data\n",
      "\n",
      "<class 'pandas.core.frame.DataFrame'>\n",
      "RangeIndex: 2925 entries, 0 to 2924\n",
      "Data columns (total 11 columns):\n",
      " #   Column          Non-Null Count  Dtype\n",
      "---  ------          --------------  -----\n",
      " 0   Lot Area        2925 non-null   int64\n",
      " 1   Overall Qual    2925 non-null   int64\n",
      " 2   Overall Cond    2925 non-null   int64\n",
      " 3   Year Built      2925 non-null   int64\n",
      " 4   Year Remod/Add  2925 non-null   int64\n",
      " 5   Gr Liv Area     2925 non-null   int64\n",
      " 6   Full Bath       2925 non-null   int64\n",
      " 7   Bedroom AbvGr   2925 non-null   int64\n",
      " 8   Fireplaces      2925 non-null   int64\n",
      " 9   Garage Cars     2925 non-null   int64\n",
      " 10  SalePrice       2925 non-null   int64\n",
      "dtypes: int64(11)\n",
      "memory usage: 251.5 KB\n"
     ]
    },
    {
     "data": {
      "text/plain": [
       "None"
      ]
     },
     "metadata": {},
     "output_type": "display_data"
    },
    {
     "name": "stdout",
     "output_type": "stream",
     "text": [
      "\n",
      " ---------------------------------------------------------------------------------------------------- \n",
      "\n",
      "Missing values in the entire dataframe\n",
      "\n"
     ]
    },
    {
     "data": {
      "text/plain": [
       "0"
      ]
     },
     "metadata": {},
     "output_type": "display_data"
    },
    {
     "name": "stdout",
     "output_type": "stream",
     "text": [
      "\n",
      " ---------------------------------------------------------------------------------------------------- \n",
      "\n",
      "Statistical description:\n"
     ]
    },
    {
     "data": {
      "text/html": [
       "<div>\n",
       "<style scoped>\n",
       "    .dataframe tbody tr th:only-of-type {\n",
       "        vertical-align: middle;\n",
       "    }\n",
       "\n",
       "    .dataframe tbody tr th {\n",
       "        vertical-align: top;\n",
       "    }\n",
       "\n",
       "    .dataframe thead th {\n",
       "        text-align: right;\n",
       "    }\n",
       "</style>\n",
       "<table border=\"1\" class=\"dataframe\">\n",
       "  <thead>\n",
       "    <tr style=\"text-align: right;\">\n",
       "      <th></th>\n",
       "      <th>Lot Area</th>\n",
       "      <th>Overall Qual</th>\n",
       "      <th>Overall Cond</th>\n",
       "      <th>Year Built</th>\n",
       "      <th>Year Remod/Add</th>\n",
       "      <th>Gr Liv Area</th>\n",
       "      <th>Full Bath</th>\n",
       "      <th>Bedroom AbvGr</th>\n",
       "      <th>Fireplaces</th>\n",
       "      <th>Garage Cars</th>\n",
       "      <th>SalePrice</th>\n",
       "    </tr>\n",
       "  </thead>\n",
       "  <tbody>\n",
       "    <tr>\n",
       "      <th>count</th>\n",
       "      <td>2925.000000</td>\n",
       "      <td>2925.000000</td>\n",
       "      <td>2925.000000</td>\n",
       "      <td>2925.000000</td>\n",
       "      <td>2925.000000</td>\n",
       "      <td>2925.000000</td>\n",
       "      <td>2925.000000</td>\n",
       "      <td>2925.000000</td>\n",
       "      <td>2925.000000</td>\n",
       "      <td>2925.000000</td>\n",
       "      <td>2925.000000</td>\n",
       "    </tr>\n",
       "    <tr>\n",
       "      <th>mean</th>\n",
       "      <td>10103.583590</td>\n",
       "      <td>6.088205</td>\n",
       "      <td>5.563761</td>\n",
       "      <td>1971.302906</td>\n",
       "      <td>1984.234188</td>\n",
       "      <td>1493.978803</td>\n",
       "      <td>1.564786</td>\n",
       "      <td>2.853675</td>\n",
       "      <td>0.596923</td>\n",
       "      <td>1.764444</td>\n",
       "      <td>180411.574701</td>\n",
       "    </tr>\n",
       "    <tr>\n",
       "      <th>std</th>\n",
       "      <td>7781.999124</td>\n",
       "      <td>1.402953</td>\n",
       "      <td>1.112262</td>\n",
       "      <td>30.242474</td>\n",
       "      <td>20.861774</td>\n",
       "      <td>486.273646</td>\n",
       "      <td>0.551386</td>\n",
       "      <td>0.827737</td>\n",
       "      <td>0.645349</td>\n",
       "      <td>0.760405</td>\n",
       "      <td>78554.857286</td>\n",
       "    </tr>\n",
       "    <tr>\n",
       "      <th>min</th>\n",
       "      <td>1300.000000</td>\n",
       "      <td>1.000000</td>\n",
       "      <td>1.000000</td>\n",
       "      <td>1872.000000</td>\n",
       "      <td>1950.000000</td>\n",
       "      <td>334.000000</td>\n",
       "      <td>0.000000</td>\n",
       "      <td>0.000000</td>\n",
       "      <td>0.000000</td>\n",
       "      <td>0.000000</td>\n",
       "      <td>12789.000000</td>\n",
       "    </tr>\n",
       "    <tr>\n",
       "      <th>25%</th>\n",
       "      <td>7438.000000</td>\n",
       "      <td>5.000000</td>\n",
       "      <td>5.000000</td>\n",
       "      <td>1954.000000</td>\n",
       "      <td>1965.000000</td>\n",
       "      <td>1126.000000</td>\n",
       "      <td>1.000000</td>\n",
       "      <td>2.000000</td>\n",
       "      <td>0.000000</td>\n",
       "      <td>1.000000</td>\n",
       "      <td>129500.000000</td>\n",
       "    </tr>\n",
       "    <tr>\n",
       "      <th>50%</th>\n",
       "      <td>9428.000000</td>\n",
       "      <td>6.000000</td>\n",
       "      <td>5.000000</td>\n",
       "      <td>1973.000000</td>\n",
       "      <td>1993.000000</td>\n",
       "      <td>1441.000000</td>\n",
       "      <td>2.000000</td>\n",
       "      <td>3.000000</td>\n",
       "      <td>1.000000</td>\n",
       "      <td>2.000000</td>\n",
       "      <td>160000.000000</td>\n",
       "    </tr>\n",
       "    <tr>\n",
       "      <th>75%</th>\n",
       "      <td>11515.000000</td>\n",
       "      <td>7.000000</td>\n",
       "      <td>6.000000</td>\n",
       "      <td>2001.000000</td>\n",
       "      <td>2004.000000</td>\n",
       "      <td>1740.000000</td>\n",
       "      <td>2.000000</td>\n",
       "      <td>3.000000</td>\n",
       "      <td>1.000000</td>\n",
       "      <td>2.000000</td>\n",
       "      <td>213500.000000</td>\n",
       "    </tr>\n",
       "    <tr>\n",
       "      <th>max</th>\n",
       "      <td>215245.000000</td>\n",
       "      <td>10.000000</td>\n",
       "      <td>9.000000</td>\n",
       "      <td>2010.000000</td>\n",
       "      <td>2010.000000</td>\n",
       "      <td>3820.000000</td>\n",
       "      <td>4.000000</td>\n",
       "      <td>8.000000</td>\n",
       "      <td>4.000000</td>\n",
       "      <td>5.000000</td>\n",
       "      <td>625000.000000</td>\n",
       "    </tr>\n",
       "  </tbody>\n",
       "</table>\n",
       "</div>"
      ],
      "text/plain": [
       "            Lot Area  Overall Qual  Overall Cond   Year Built  Year Remod/Add  \\\n",
       "count    2925.000000   2925.000000   2925.000000  2925.000000     2925.000000   \n",
       "mean    10103.583590      6.088205      5.563761  1971.302906     1984.234188   \n",
       "std      7781.999124      1.402953      1.112262    30.242474       20.861774   \n",
       "min      1300.000000      1.000000      1.000000  1872.000000     1950.000000   \n",
       "25%      7438.000000      5.000000      5.000000  1954.000000     1965.000000   \n",
       "50%      9428.000000      6.000000      5.000000  1973.000000     1993.000000   \n",
       "75%     11515.000000      7.000000      6.000000  2001.000000     2004.000000   \n",
       "max    215245.000000     10.000000      9.000000  2010.000000     2010.000000   \n",
       "\n",
       "       Gr Liv Area    Full Bath  Bedroom AbvGr   Fireplaces  Garage Cars  \\\n",
       "count  2925.000000  2925.000000    2925.000000  2925.000000  2925.000000   \n",
       "mean   1493.978803     1.564786       2.853675     0.596923     1.764444   \n",
       "std     486.273646     0.551386       0.827737     0.645349     0.760405   \n",
       "min     334.000000     0.000000       0.000000     0.000000     0.000000   \n",
       "25%    1126.000000     1.000000       2.000000     0.000000     1.000000   \n",
       "50%    1441.000000     2.000000       3.000000     1.000000     2.000000   \n",
       "75%    1740.000000     2.000000       3.000000     1.000000     2.000000   \n",
       "max    3820.000000     4.000000       8.000000     4.000000     5.000000   \n",
       "\n",
       "           SalePrice  \n",
       "count    2925.000000  \n",
       "mean   180411.574701  \n",
       "std     78554.857286  \n",
       "min     12789.000000  \n",
       "25%    129500.000000  \n",
       "50%    160000.000000  \n",
       "75%    213500.000000  \n",
       "max    625000.000000  "
      ]
     },
     "metadata": {},
     "output_type": "display_data"
    }
   ],
   "source": [
    "# Understanding data in different ways\n",
    "\n",
    "print(\"Dimension of the data:\", df.shape)\n",
    "\n",
    "print(\"\\n\", \"--\" * 50, \"\\n\")\n",
    "\n",
    "print(\"Summary of the data\\n\")\n",
    "display(df.info())\n",
    "\n",
    "print(\"\\n\", \"--\" * 50, \"\\n\")\n",
    "\n",
    "print(\"Missing values in the entire dataframe\\n\")\n",
    "display(df.isnull().sum().sum())\n",
    "\n",
    "print(\"\\n\", \"--\" * 50, \"\\n\")\n",
    "\n",
    "print(\"Statistical description:\")\n",
    "display(df.describe())\n",
    "\n"
   ]
  },
  {
   "cell_type": "markdown",
   "id": "c57ff4fc",
   "metadata": {},
   "source": [
    "#### Observations from basic exploration:\n",
    "1. There are total 2926 records/rows and 11 columns in the dataset.\n",
    "2. All columns contain `integer` values. We can use all columns (if required) for regression analysis as all are numeric.\n",
    "3. There is no missing value in any row/column. Hence, no need to treat the missing values.\n",
    "4. Descriptive statistics can be interpreted for each column. You can try to go one by one. "
   ]
  },
  {
   "cell_type": "markdown",
   "id": "e2536207",
   "metadata": {},
   "source": [
    "### Correlation analysis\n"
   ]
  },
  {
   "cell_type": "code",
   "execution_count": null,
   "id": "c7902f3f",
   "metadata": {},
   "outputs": [],
   "source": [
    "# Correlation matrix\n"
   ]
  },
  {
   "cell_type": "code",
   "execution_count": null,
   "id": "5399b7e8",
   "metadata": {},
   "outputs": [],
   "source": [
    "# Let's plot the correlation matrix as a heatmap\n",
    "\n"
   ]
  },
  {
   "cell_type": "markdown",
   "id": "cc28a0cc",
   "metadata": {},
   "source": [
    "Since there are many columns, let's just arrange the correlation matrix in a way that we see the correaltion values from highest to smallest.\n",
    "\n",
    "Please note that the heatmap actually contains duplicate values i.e. the value on left diagonal are same as the value on right diagnonal. Hence, we will not include the duplicates from our next output."
   ]
  },
  {
   "cell_type": "code",
   "execution_count": null,
   "id": "8d739a43",
   "metadata": {},
   "outputs": [],
   "source": [
    "df.corr().unstack().sort_values(ascending = False).drop_duplicates()"
   ]
  },
  {
   "cell_type": "code",
   "execution_count": null,
   "id": "2b63644a",
   "metadata": {},
   "outputs": [],
   "source": [
    "df.corr().unstack().sort_values(ascending = False)['SalePrice']"
   ]
  },
  {
   "cell_type": "markdown",
   "id": "f2c8bce5",
   "metadata": {},
   "source": [
    "Sometimes, you may want to see the output in matrix form while fitlering the correlations which are **not significant**. \n",
    "\n",
    "In the below code cell, we are trying to filter or see only those correlation which are more than 0.5 (positive and negative, both), and not perfectly correlated where the columns  are being compared to the same.\n",
    "\n",
    "We can also visualize these matrix as a heatmap like it has been done in the next output."
   ]
  },
  {
   "cell_type": "code",
   "execution_count": null,
   "id": "089c2853",
   "metadata": {},
   "outputs": [],
   "source": [
    "\n",
    "dfCorr = df.corr()\n",
    "filteredDf = dfCorr[((dfCorr > 0.5) | (dfCorr < -0.5)) & (dfCorr !=1.000)]\n",
    "display(filteredDf)\n",
    "\n",
    "plt.figure(figsize=(30,10))\n",
    "sns.heatmap(filteredDf, annot=True)\n",
    "plt.show()"
   ]
  },
  {
   "cell_type": "markdown",
   "id": "3e562531",
   "metadata": {},
   "source": [
    "#### Overall observations from correlation analysis:\n",
    "1. `SalePrice` is strongly positive correlated to `Overll Qual`\n",
    "2. `SalePrice` is highly positive correlated to `Gr Liv Area` which refers to Ground Living Area, and `Garage Cars` which might be referring to cars occupancy in the garage.\n",
    "3. There is medium correlation with `Year Built`, `Year Remod/Add`and `Full Bath`."
   ]
  },
  {
   "cell_type": "markdown",
   "id": "dc24f3b4",
   "metadata": {},
   "source": [
    "##### <font color = \"red\">How are we going to use this observation in our analysis?\n",
    "    \n",
    "- For Simple Linear Regression, we will use `Overall Qual` column.\n",
    "- For Multiple Linear Regression, we will use all columns of the dataframe.\n",
    "- For additional practice, you can rework on the Multiple Linear Regression taking only those columns which are mentioned in the observations above i.e. where the correlation is more than 0.5"
   ]
  },
  {
   "cell_type": "markdown",
   "id": "4553a42a",
   "metadata": {},
   "source": [
    "There may be many others explorations that can be done on this dataset, depending on the need. For example, if we notice there are missing values in the dataframe, we dive deeper to understand missing values column-wise and perform steps to remove or replace those missing values. In the previous course, you have learnt many methods to visualize column with customized codes. "
   ]
  },
  {
   "cell_type": "markdown",
   "id": "83407dec",
   "metadata": {},
   "source": [
    "### Visual analysis (EDA - Exploratory Data Analysis)"
   ]
  },
  {
   "cell_type": "markdown",
   "id": "ca814799",
   "metadata": {},
   "source": [
    "We have already visually observed the coorelation betweent the variables. There may be many other visual explroations that can be done.\n",
    "\n",
    "To save our time and perform a quick understandnig of the columns, visually, let's use `dataprep` package that we had used in previous course. "
   ]
  },
  {
   "cell_type": "code",
   "execution_count": null,
   "id": "22667270",
   "metadata": {},
   "outputs": [],
   "source": [
    "from dataprep.eda import create_report"
   ]
  },
  {
   "cell_type": "code",
   "execution_count": null,
   "id": "ba704ff1",
   "metadata": {},
   "outputs": [],
   "source": [
    "# visualize the data\n"
   ]
  },
  {
   "cell_type": "markdown",
   "id": "6ba57fab",
   "metadata": {},
   "source": [
    "#### Overall observations from EDA:\n",
    "Since our `target variables` is `SalesPrice`, we will focus only on it:\n",
    "1. The SalesPrice is a little positive skewed. There are some sales prices which are on higher side compared to other values.\n",
    "2. We will still consider SalesPrice as having normal distribution as its skewness is within the acceptable range of -2 ot +2.  <br>Refer: https://imaging.mrc-cbu.cam.ac.uk/statswiki/FAQ/Simon?action=AttachFile&do=view&target=rulesofthumb.pdf\n",
    "<br> Please note that different researchers may have different acceptable range for skewness. It all depends on what level of accuracy they need and how much resources they have to further clean the data to make it look normally distributed.\n",
    "3. SalesProce has higher correlation with some of the columns which we have explored earlier in correlation analsysis."
   ]
  },
  {
   "cell_type": "markdown",
   "id": "60048ec9",
   "metadata": {},
   "source": [
    "# 4. Data Preparation"
   ]
  },
  {
   "cell_type": "markdown",
   "id": "7998e434",
   "metadata": {},
   "source": [
    "Data preparation is also called data cleaning, data transformation, data wrangling etc."
   ]
  },
  {
   "cell_type": "markdown",
   "id": "2b748ce4",
   "metadata": {},
   "source": [
    "### Data Cleaning"
   ]
  },
  {
   "attachments": {
    "image.png": {
     "image/png": "[encoded data removed]"
    }
   },
   "cell_type": "markdown",
   "id": "21f5873d",
   "metadata": {},
   "source": [
    "A dirty data can contain a lot of issue and may srongly impact our data analysis and predictive modelling. It may contain incorrect, inconsistent, incomplete or duplicate data, or some other issues as well which should definitely be taken care of.\n",
    "\n",
    "![image.png](attachment:image.png)\n",
    "\n",
    "\n",
    "In our dataset, we do not have these issues. Later, while working on some other datasets, we will take care of these problems, if found. \n",
    "\n",
    "Read more on why data cleaning is important: https://www.javatpoint.com/data-preparation-in-machine-learning"
   ]
  },
  {
   "cell_type": "markdown",
   "id": "1f798404",
   "metadata": {},
   "source": [
    "### Feature Selection"
   ]
  },
  {
   "cell_type": "markdown",
   "id": "031890bf",
   "metadata": {},
   "source": [
    "We have a lot of features/columns in our data. We will selection only those columns which are to be used in the analysis or data modelling. This method is called feature selection.\n",
    "\n",
    "<img src=\"https://mlxb3uasbvvi.i.optimole.com/w:640/h:362/q:mauto/f:avif/https://www.izen.ai/wp-content/uploads/2021/10/184.png\"><br>\n",
    "\n",
    "\n",
    "The feature selection will depend on the type of regression analysis we are going to do. \n"
   ]
  },
  {
   "cell_type": "markdown",
   "id": "36a8db2c",
   "metadata": {},
   "source": [
    "# 5. Simple Linear Regression"
   ]
  },
  {
   "cell_type": "markdown",
   "id": "c9063b22",
   "metadata": {},
   "source": [
    "### Objective and working of Simple Linear Regression\n",
    "\n",
    "In Simple Linear Regression, we predict a dependent variable based on the values in an independent variable.\n",
    "\n",
    "<img src=\"https://cdn.wallstreetmojo.com/wp-content/uploads/2019/04/Regression-Formula.jpg\" width=\"500\">\n",
    "\n",
    "- Y = Our **target/output/dependent variable** which will be **`SalesPrice`** which are going to predict.<br>\n",
    "- X = Our **predictor/input/independent variable** which will be **`Overall Qual`** which has the highest correlation with SalesPrice.\n",
    "- a = Constant value or y-intercept\n",
    "- b = slope or coefficient of X\n",
    "- e = error\n",
    "\n",
    "**Understanding the equation with regression line**\n",
    "\n",
    "<img src=\"https://d2cyt36b7wnvt9.cloudfront.net/exams/wp-content/uploads/2022/04/29202209/PIC-248.png\" width=\"500\">\n",
    "\n"
   ]
  },
  {
   "cell_type": "markdown",
   "id": "29f0916b",
   "metadata": {},
   "source": [
    "### Feature selection for Simple Linear Regression"
   ]
  },
  {
   "cell_type": "code",
   "execution_count": null,
   "id": "67081e1f",
   "metadata": {},
   "outputs": [],
   "source": [
    "X =      # Taking only one column as input variable\n",
    "y =      # We want to predict sales based on Overall Qual of the house.\n",
    "\n",
    "# Two brackets given to put the data in dataframe format.\n",
    "# If do not want to input as dataframe format then need to reshape the data,\n",
    "# which we will do later.\n",
    "# With single bracket, it will be Series format.\n",
    "\n",
    "# Please note that we do not need to convert y to dataframe for the modelling.\n",
    "# It can work as a Series too however, to calculate the accuracy score later, \n",
    "# we need it to be of same data type as of X."
   ]
  },
  {
   "cell_type": "code",
   "execution_count": null,
   "id": "667fc56f",
   "metadata": {},
   "outputs": [],
   "source": [
    "# Please note that the data type of x and y are dataframe.\n",
    "print(type(X))\n",
    "print(type(y))"
   ]
  },
  {
   "cell_type": "markdown",
   "id": "da02a5dc",
   "metadata": {},
   "source": [
    "### Train-Test Split"
   ]
  },
  {
   "cell_type": "markdown",
   "id": "3c0598dd",
   "metadata": {},
   "source": [
    "A train test split is when you split your data into a training set and a testing set. \n",
    "\n",
    "The training set is used for training the model, and the testing set is used to test your model. This allows you to train your models on the training set, and then test their accuracy on the unseen testing set.\n",
    "\n",
    "<img src = \"https://i.imgur.com/qOLmXIt.png\" width=\"650\">\n",
    "\n",
    "Read the documentation for train_test_split(): https://scikit-learn.org/stable/modules/generated/sklearn.model_selection.train_test_split.html"
   ]
  },
  {
   "cell_type": "code",
   "execution_count": null,
   "id": "5df34fc9",
   "metadata": {},
   "outputs": [],
   "source": [
    "# Importing the function/module to randomly split the data\n",
    "from sklearn.model_selection import train_test_split "
   ]
  },
  {
   "cell_type": "code",
   "execution_count": null,
   "id": "9fc52be1",
   "metadata": {},
   "outputs": [],
   "source": [
    "# Split the data into train and test\n",
    "\n"
   ]
  },
  {
   "cell_type": "code",
   "execution_count": null,
   "id": "a5ad171b",
   "metadata": {
    "scrolled": false
   },
   "outputs": [],
   "source": [
    "# Printing some rows of splitted data just for exploration\n",
    "\n",
    "print(X_train[0:5])\n",
    "print(y_train[0:4])\n",
    "print(X_test[0:4])\n",
    "print(y_test[0:4])\n",
    "\n",
    "# You will notice that our outputs may be different.\n",
    "# Or, if you re-run the previous code for split and then run this cell\n",
    "# then again the output will be different.\n",
    "# This is because we have NOT used random_state while making the split.\n",
    "# You can set random_state = 0 or any other integer to reproduce the same split."
   ]
  },
  {
   "cell_type": "markdown",
   "id": "94e9ba71",
   "metadata": {},
   "source": [
    "### Training the model"
   ]
  },
  {
   "cell_type": "code",
   "execution_count": null,
   "id": "d62e7cc5",
   "metadata": {},
   "outputs": [],
   "source": [
    "# importing the model\n",
    "\n",
    "from sklearn.linear_model import LinearRegression # Algorithm or model"
   ]
  },
  {
   "cell_type": "code",
   "execution_count": null,
   "id": "63506268",
   "metadata": {},
   "outputs": [],
   "source": [
    "# instantiating the model\n",
    "\n",
    "slr_model = "
   ]
  },
  {
   "cell_type": "markdown",
   "id": "6178a115",
   "metadata": {},
   "source": [
    "**<font color='red' > What is instantiating the model?**\n",
    "    \n",
    "Think of instantiating the model as creating a blueprint of the model/algorithm code in which new inputs will be given.\n",
    "For example, many houses can be constructed based on a single blueprint of a house design.\n",
    "\n",
    "Same way, we created a blueprint called `slr_model`."
   ]
  },
  {
   "cell_type": "code",
   "execution_count": null,
   "id": "0ef085f2",
   "metadata": {},
   "outputs": [],
   "source": [
    "# fit() is used to pass training data to train the model\n",
    "\n",
    "slr_model.fit"
   ]
  },
  {
   "cell_type": "markdown",
   "id": "8c3a72d6",
   "metadata": {},
   "source": [
    "### Model Prediction"
   ]
  },
  {
   "cell_type": "markdown",
   "id": "3bb9ee50",
   "metadata": {},
   "source": [
    "Now that the data has been trained on the training dataset (both input and output), we will now predict the the values for testing inputs, and then compare the predictions with actual output from testing data."
   ]
  },
  {
   "cell_type": "code",
   "execution_count": null,
   "id": "6f112e63",
   "metadata": {},
   "outputs": [],
   "source": [
    "# Predicting the values for testing inputs\n",
    "\n",
    "y_pred = "
   ]
  },
  {
   "cell_type": "markdown",
   "id": "04ceaa31",
   "metadata": {},
   "source": [
    "Let's compare the actual y (y_test) and predicted y (y_pred)."
   ]
  },
  {
   "cell_type": "code",
   "execution_count": null,
   "id": "64fdc716",
   "metadata": {},
   "outputs": [],
   "source": [
    "display(y_test[0:10])\n",
    "display(y_pred[0:10])\n",
    "\n",
    "# We can clearly see there is some +ve or -ve difference between the actual and predicted."
   ]
  },
  {
   "cell_type": "markdown",
   "id": "268f56e3",
   "metadata": {},
   "source": [
    "We can also use any new value as input to predict the price."
   ]
  },
  {
   "cell_type": "code",
   "execution_count": null,
   "id": "f7ad721d",
   "metadata": {},
   "outputs": [],
   "source": [
    "# Predicting price for overall quality = 7\n",
    "\n",
    "newQuality = 7   \n",
    "\n",
    "# The  model takes inputs as array of values hence, we will conver the input\n",
    "# to an array format\n",
    "\n",
    "newInput = np.array(newQuality).reshape(-1, 1)  # reshape(-1, 1) means and 1 column and unknown number of rows\n",
    "\n",
    "# Predicting the price for the given input\n",
    "slr_model.predict(newInput)"
   ]
  },
  {
   "cell_type": "markdown",
   "id": "58e707f3",
   "metadata": {},
   "source": [
    "### Model Evaluation"
   ]
  },
  {
   "cell_type": "markdown",
   "id": "57da9183",
   "metadata": {},
   "source": [
    "It's always good to evaluate the model's performance. For Linear Regression models, the performance metrics can be many, namely:\n",
    "1. Mean Squared Error\n",
    "2. Mean Absolute Error\n",
    "3. Root MSE\n",
    "4. Accuracy score \n",
    "\n",
    ".. and many more. We will look into the commonly used MSE and Accuracy scores."
   ]
  },
  {
   "cell_type": "code",
   "execution_count": null,
   "id": "65dbb5b9",
   "metadata": {},
   "outputs": [],
   "source": [
    "# mterics from sklearn contains all the performance evaluation metrics\n",
    "\n",
    "from sklearn import metrics "
   ]
  },
  {
   "cell_type": "markdown",
   "id": "aa7165b5",
   "metadata": {},
   "source": [
    "##### Average error"
   ]
  },
  {
   "cell_type": "code",
   "execution_count": null,
   "id": "c1de458e",
   "metadata": {},
   "outputs": [],
   "source": [
    "# Finding mean absolute error\n",
    "metrics.mean_absolute_error()"
   ]
  },
  {
   "cell_type": "markdown",
   "id": "91c91487",
   "metadata": {},
   "source": [
    "It indicates that on an average, if the model predicts a price of a house based on overall quality, there may be an error of the value that appears above."
   ]
  },
  {
   "cell_type": "markdown",
   "id": "d30abc28",
   "metadata": {},
   "source": [
    "##### Model's accuracy"
   ]
  },
  {
   "cell_type": "code",
   "execution_count": null,
   "id": "90a97a0b",
   "metadata": {},
   "outputs": [],
   "source": [
    "accuracy_slr = \n",
    "\n",
    "print(\"Accuracy of the model is:\", round(accuracy_slr*100), \"%\")"
   ]
  },
  {
   "cell_type": "markdown",
   "id": "2e65fcac",
   "metadata": {},
   "source": [
    "**Are you satisfied with the accuracy score of the model?**\n",
    "\n",
    "So although we have developed a model to do prediction of price based on overall quality of the house, it appears that the predicted may not be good. \n",
    "\n",
    "This is because there may be many other factors which affect the price of a house. Example, all those column which had high correlation with price. \n",
    "\n",
    "To build a better model, we will later use the same dataset to perform **Multiple Linear Regression** where we will take other columns as well into consideration."
   ]
  },
  {
   "cell_type": "markdown",
   "id": "d67a2b7b",
   "metadata": {},
   "source": [
    "### Result Interpretation"
   ]
  },
  {
   "cell_type": "markdown",
   "id": "241b8c1b",
   "metadata": {},
   "source": [
    "Remember we discussed about the components of a regression equation? We are going to create an equation using the value from the model we have developed.\n",
    "\n",
    "<img src=\"https://cdn.wallstreetmojo.com/wp-content/uploads/2019/04/Regression-Formula.jpg\" width=\"500\">"
   ]
  },
  {
   "cell_type": "code",
   "execution_count": null,
   "id": "f1008936",
   "metadata": {},
   "outputs": [],
   "source": [
    "# printing y intercept - 'a' in the above image\n",
    "\n",
    "slr_model."
   ]
  },
  {
   "cell_type": "code",
   "execution_count": null,
   "id": "e614b814",
   "metadata": {},
   "outputs": [],
   "source": [
    "# printing slope of dependent variable - 'b' in the above image\n",
    "\n",
    "slr_model."
   ]
  },
  {
   "cell_type": "markdown",
   "id": "031ea21b",
   "metadata": {},
   "source": [
    "<font color = \"red\"> You already had the error value. Now you have the y-intercept and the slope of X as well. Can you write an equation based on equation </br> **Y = intercept + slope(X) + Error** ?"
   ]
  },
  {
   "cell_type": "code",
   "execution_count": null,
   "id": "770bdef2",
   "metadata": {},
   "outputs": [],
   "source": []
  },
  {
   "cell_type": "markdown",
   "id": "14f27b66",
   "metadata": {},
   "source": [
    "We got the equation that can be used manually too to predict the price of the house based on a single column - overall quality. Now, let's try to use all other columns of the dataset to predict Sale Price.\n",
    "\n",
    "-------------------------------------------------\n",
    "-------------------------------------------------\n"
   ]
  },
  {
   "cell_type": "markdown",
   "id": "e664c73d",
   "metadata": {},
   "source": [
    "# 6. Multiple Linear Regression"
   ]
  },
  {
   "cell_type": "markdown",
   "id": "f52d1bdd",
   "metadata": {},
   "source": [
    "### Objective and working of Multiple Linear Regression\n",
    "\n",
    "In Multiple Linear Regression, we predict a dependent variable based on the values in multiple independent variable. In the below image, we are considering 3 independent variables hence, 3 X values.\n",
    "\n",
    "<img src=\"https://cdn.wallstreetmojo.com/wp-content/uploads/2019/05/Multiple-Regression-Formula-1.jpg\" width=\"500\">\n",
    "\n",
    "- Y = Our **target/output/dependent variable** which will be **`SalesPrice`** which are going to predict.<br>\n",
    "- Xs = **predictor/input/independent variables**. For our model building, we will take all variables of the dataframe.\n",
    "- a = Constant value or y-intercept\n",
    "- m = slopes or coefficients of Xs. Please note that the slope of different inputs (Xs) may be different.\n",
    "- e = error\n",
    "\n",
    "**Understanding the equation with regression line**\n",
    "\n",
    "Interpreting the gression plane or line of a multiple linear regression is difficult as our as our laptop screen will show 2D images. However, the below gif can help you visualize how the plane appears for a multiple linear regression which contains 3 input variables.\n",
    "\n",
    "<img src=\"https://mediaproduction.adelaide.edu.au/public-assets/futurelearn/Data%20Analytics%20for%20Managers/Week%201%20-%20GIF/PS-3D-Representation-(1).gif\" width=\"500\">\n",
    "\n"
   ]
  },
  {
   "cell_type": "markdown",
   "id": "b2449499",
   "metadata": {},
   "source": [
    "### Feature selection for Multiple Linear Regression"
   ]
  },
  {
   "cell_type": "code",
   "execution_count": null,
   "id": "d450bc3d",
   "metadata": {},
   "outputs": [],
   "source": [
    "X =     # Drop the saleprice - everything else is the input\n",
    "y =     # output"
   ]
  },
  {
   "cell_type": "code",
   "execution_count": null,
   "id": "3614cb02",
   "metadata": {},
   "outputs": [],
   "source": [
    "# Please note that the data type of x and y will be dataframe.\n",
    "print(type(X))\n",
    "print(type(y))"
   ]
  },
  {
   "cell_type": "markdown",
   "id": "1b053119",
   "metadata": {},
   "source": [
    "### Train-Test Split"
   ]
  },
  {
   "cell_type": "markdown",
   "id": "fe6e1953",
   "metadata": {},
   "source": [
    "A train test split is when you split your data into a training set and a testing set. \n",
    "\n",
    "The training set is used for training the model, and the testing set is used to test your model. This allows you to train your models on the training set, and then test their accuracy on the unseen testing set.\n",
    "\n",
    "<img src = \"https://i.imgur.com/qOLmXIt.png\" width=\"650\">\n",
    "\n",
    "Read the documentation for train_test_split(): https://scikit-learn.org/stable/modules/generated/sklearn.model_selection.train_test_split.html"
   ]
  },
  {
   "cell_type": "code",
   "execution_count": null,
   "id": "26f643d2",
   "metadata": {},
   "outputs": [],
   "source": [
    "# Importing the function/module to randomly split the data\n",
    "from sklearn.model_selection import train_test_split "
   ]
  },
  {
   "cell_type": "code",
   "execution_count": null,
   "id": "3096bb3c",
   "metadata": {},
   "outputs": [],
   "source": [
    "# Split the data into train and test\n",
    "\n"
   ]
  },
  {
   "cell_type": "code",
   "execution_count": null,
   "id": "dd10ba68",
   "metadata": {
    "scrolled": false
   },
   "outputs": [],
   "source": [
    "# Printing some rows of splitted data just for exploration\n",
    "\n",
    "display(X_train[0:5])\n",
    "display(y_train[0:4])\n",
    "display(X_test[0:4])\n",
    "display(y_test[0:4])\n",
    "\n",
    "# You will notice that our outputs may be different.\n",
    "# Or, if you re-run the previous code for split and then run this cell\n",
    "# then again the output will be different.\n",
    "# This is because we have NOT used random_state while making the split.\n",
    "# You can set random_state = 0 or any other integer to reproduce the same split."
   ]
  },
  {
   "cell_type": "markdown",
   "id": "df2d8f64",
   "metadata": {},
   "source": [
    "### Training the model"
   ]
  },
  {
   "cell_type": "code",
   "execution_count": null,
   "id": "7af79991",
   "metadata": {},
   "outputs": [],
   "source": [
    "# importing the model\n",
    "\n",
    "# no need to re-import it as we have already done it once in this notebook\n",
    "\n",
    "from sklearn.linear_model import LinearRegression "
   ]
  },
  {
   "cell_type": "code",
   "execution_count": null,
   "id": "69b7b577",
   "metadata": {},
   "outputs": [],
   "source": [
    "# instantiating the model\n",
    "\n",
    "mlr_model =       # similar code, just giving a different name to the model"
   ]
  },
  {
   "cell_type": "markdown",
   "id": "0bffcf69",
   "metadata": {},
   "source": [
    "**<font color='red' > What is instantiating the model?**\n",
    "    \n",
    "Think of instantiating the model as creating a blueprint of the model/algorithm code in which new inputs will be given.\n",
    "For example, many houses can be constructed based on a single blueprint of a house design.\n",
    "\n",
    "Same way, we created a blueprint called `slr_model`."
   ]
  },
  {
   "cell_type": "code",
   "execution_count": null,
   "id": "3ffd5084",
   "metadata": {},
   "outputs": [],
   "source": [
    "# fit() is used to pass training data to train the model\n",
    "\n",
    "mlr_model.fit"
   ]
  },
  {
   "cell_type": "markdown",
   "id": "bac7079b",
   "metadata": {},
   "source": [
    "### Model Prediction"
   ]
  },
  {
   "cell_type": "markdown",
   "id": "3c7e8d53",
   "metadata": {},
   "source": [
    "Now that the data has been trained on the training dataset (both inputs and output), we will now predict the the values for testing inputs, and then compare the predictions with actual output from testing data."
   ]
  },
  {
   "cell_type": "code",
   "execution_count": null,
   "id": "7fead352",
   "metadata": {},
   "outputs": [],
   "source": [
    "# Predicting the values for testing inputs\n",
    "\n",
    "y_pred = mlr_model.predict"
   ]
  },
  {
   "cell_type": "markdown",
   "id": "18ad384d",
   "metadata": {},
   "source": [
    "Let's compare the actual y (y_test) and predicted y (y_pred)."
   ]
  },
  {
   "cell_type": "code",
   "execution_count": null,
   "id": "8cf73d6e",
   "metadata": {},
   "outputs": [],
   "source": [
    "display(y_test[0:10])\n",
    "display(y_pred[0:10])\n",
    "\n",
    "# We can clearly see there is some +ve or -ve difference between the actual and predicted."
   ]
  },
  {
   "cell_type": "markdown",
   "id": "2e6314a6",
   "metadata": {},
   "source": [
    "We can also use any new value as input to predict the price. Taking new values for 10 input column will take time so let's just take any random row from the data."
   ]
  },
  {
   "cell_type": "code",
   "execution_count": null,
   "id": "20bfd82f",
   "metadata": {},
   "outputs": [],
   "source": [
    "display(X.iloc[5])\n",
    "newData = X.iloc[5]   # Just taking any random column for predicting.\n",
    "\n",
    "# The  model takes inputs as array of values hence, we will conver the input\n",
    "# to an array format\n",
    "\n",
    "newInput = np.array(newData).reshape(1, -1)  # reshape(1, -1) means and 1 row and unknown number of columns\n",
    "\n",
    "# Predicting the price for the given input\n",
    "prediction = mlr_model.predict(newInput)\n",
    "\n",
    "print(\"The predicted Sale Price for the given 10 inputs is: \", prediction)"
   ]
  },
  {
   "cell_type": "markdown",
   "id": "2e188a3f",
   "metadata": {},
   "source": [
    "### Model Evaluation"
   ]
  },
  {
   "cell_type": "markdown",
   "id": "637bc960",
   "metadata": {},
   "source": [
    "It's always good to evaluate the model's performance. For Linear Regression models, the performance metrics can be many, namely:\n",
    "1. Mean Squared Error\n",
    "2. Mean Absolute Error\n",
    "3. Root MSE\n",
    "4. Accuracy score \n",
    "\n",
    ".. and many more. We will look into the commonly used MSE and Accuracy scores."
   ]
  },
  {
   "cell_type": "code",
   "execution_count": null,
   "id": "eb29073c",
   "metadata": {},
   "outputs": [],
   "source": [
    "# mterics from sklearn contains all the performance evaluation metrics\n",
    "\n",
    "from sklearn import metrics"
   ]
  },
  {
   "cell_type": "markdown",
   "id": "958a39e3",
   "metadata": {},
   "source": [
    "##### Average error"
   ]
  },
  {
   "cell_type": "code",
   "execution_count": null,
   "id": "3fda0dff",
   "metadata": {},
   "outputs": [],
   "source": [
    "# Finding mean absolute error\n",
    "metrics.mean_absolute_error"
   ]
  },
  {
   "cell_type": "markdown",
   "id": "99730b17",
   "metadata": {},
   "source": [
    "It indicates that on an average, if the model predicts a price of a house based on overall quality, there may be an error of the value that appears above."
   ]
  },
  {
   "cell_type": "markdown",
   "id": "b84036cf",
   "metadata": {},
   "source": [
    "##### Model's accuracy"
   ]
  },
  {
   "cell_type": "code",
   "execution_count": null,
   "id": "ef03a86c",
   "metadata": {},
   "outputs": [],
   "source": [
    "accuracy_mlr = \n",
    "\n",
    "print(\"Accuracy of the model is:\", round(accuracy_mlr*100), \"%\")"
   ]
  },
  {
   "cell_type": "markdown",
   "id": "1ef07d42",
   "metadata": {},
   "source": [
    "**Is the accuracy better than that of Simple Linear Regression?**\n",
    "\n",
    "If still not satisfied with the model accuracy and you want to see if it can be improved further, you can either:\n",
    "1. Perform hyperparameter tuning i.e. change the default values of the model's parameters. You can get a list of such parameters here: https://scikit-learn.org/stable/modules/generated/sklearn.linear_model.LinearRegression.html\n",
    "2. Select the column as inputs which are more correlated to the Sales Price. We should avoid columns which are highly correlated with each other."
   ]
  },
  {
   "cell_type": "markdown",
   "id": "eb3d2a13",
   "metadata": {},
   "source": [
    "### Result Interpretation"
   ]
  },
  {
   "cell_type": "markdown",
   "id": "62f331ed",
   "metadata": {},
   "source": [
    "Remember we discussed about the components of a regression equation? We are going to create an equation using the value from the model we have developed.\n",
    "\n",
    "<img src=\"https://miro.medium.com/v2/resize:fit:1160/0*UitadBJZqrH0K1VQ.png\" width=\"500\">"
   ]
  },
  {
   "cell_type": "code",
   "execution_count": null,
   "id": "18aac6f9",
   "metadata": {},
   "outputs": [],
   "source": [
    "# printing y intercept \n",
    "\n",
    "mlr_model."
   ]
  },
  {
   "cell_type": "code",
   "execution_count": null,
   "id": "491a062a",
   "metadata": {},
   "outputs": [],
   "source": [
    "# printing slope of dependent variable \n",
    "mlr_model."
   ]
  },
  {
   "cell_type": "code",
   "execution_count": null,
   "id": "115db782",
   "metadata": {},
   "outputs": [],
   "source": [
    "# Run this cell if you get scientific notations in the output of previous cell.\n",
    "# And then go run the previous cell.\n",
    "\n",
    "import numpy as np\n",
    "np.set_printoptions(suppress=True)"
   ]
  },
  {
   "cell_type": "markdown",
   "id": "c58d3a60",
   "metadata": {},
   "source": [
    "<font color = \"red\"> You already had the error value. Now you have the y-intercept and the slope of X as well. Can you write an equation for this multiple linear regression?"
   ]
  },
  {
   "cell_type": "code",
   "execution_count": null,
   "id": "0ea36aca",
   "metadata": {},
   "outputs": [],
   "source": []
  },
  {
   "cell_type": "markdown",
   "id": "e04cfd43",
   "metadata": {},
   "source": [
    "# 7. Conclusion"
   ]
  },
  {
   "cell_type": "markdown",
   "id": "8aedb1db",
   "metadata": {},
   "source": [
    "We explored data science workflow consisting of several stages. \n",
    "We performed Simple and Multiple Linear Regression, and also did model evaluation based on some performance metrics. \n",
    "\n",
    "We observed that when we include more features/inputs to predict the sales prices of the house, the model tends to give higher accuracy. This, however, cannot be true for all cases. \n",
    "\n",
    "At times, when there are too many features, the model perform poorly as the regression equation becomes too complex and there are many independent variables.\n",
    "\n",
    "There are some other algorithms as well which can be used for regression analysis. Please feel free to explore more datasets and algorithms on Kaggle and online resources.\n",
    "\n",
    "-----------------------------------------------\n",
    "-------------------------------------------------"
   ]
  }
 ],
 "metadata": {
  "kernelspec": {
   "display_name": "Python 3 (ipykernel)",
   "language": "python",
   "name": "python3"
  },
  "language_info": {
   "codemirror_mode": {
    "name": "ipython",
    "version": 3
   },
   "file_extension": ".py",
   "mimetype": "text/x-python",
   "name": "python",
   "nbconvert_exporter": "python",
   "pygments_lexer": "ipython3",
   "version": "3.10.9"
  }
 },
 "nbformat": 4,
 "nbformat_minor": 5
}
